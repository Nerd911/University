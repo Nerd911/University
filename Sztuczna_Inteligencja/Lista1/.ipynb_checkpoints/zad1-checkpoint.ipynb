{
 "cells": [
  {
   "cell_type": "code",
   "execution_count": 1,
   "metadata": {},
   "outputs": [],
   "source": [
    "from zad1_2 import *\n",
    "import tabulate\n",
    "from IPython.core.display import display, HTML"
   ]
  },
  {
   "cell_type": "code",
   "execution_count": 2,
   "metadata": {},
   "outputs": [
    {
     "ename": "AttributeError",
     "evalue": "'str' object has no attribute 'decode'",
     "output_type": "error",
     "traceback": [
      "\u001b[0;31m---------------------------------------------------------------------------\u001b[0m",
      "\u001b[0;31mAttributeError\u001b[0m                            Traceback (most recent call last)",
      "\u001b[0;32m<ipython-input-2-0b6fffbcfca9>\u001b[0m in \u001b[0;36m<module>\u001b[0;34m()\u001b[0m\n\u001b[0;32m----> 1\u001b[0;31m \u001b[0mfigures\u001b[0m \u001b[0;34m=\u001b[0m \u001b[0;34m(\u001b[0m\u001b[0;34m'♔'\u001b[0m\u001b[0;34m.\u001b[0m\u001b[0mdecode\u001b[0m\u001b[0;34m(\u001b[0m\u001b[0;34m'utf-8'\u001b[0m\u001b[0;34m)\u001b[0m\u001b[0;34m,\u001b[0m \u001b[0;34m'♖'\u001b[0m\u001b[0;34m.\u001b[0m\u001b[0mdecode\u001b[0m\u001b[0;34m(\u001b[0m\u001b[0;34m'utf-8'\u001b[0m\u001b[0;34m)\u001b[0m\u001b[0;34m,\u001b[0m \u001b[0;34m'♚'\u001b[0m\u001b[0;34m.\u001b[0m\u001b[0mdecode\u001b[0m\u001b[0;34m(\u001b[0m\u001b[0;34m'utf-8'\u001b[0m\u001b[0;34m)\u001b[0m\u001b[0;34m)\u001b[0m\u001b[0;34m\u001b[0m\u001b[0m\n\u001b[0m",
      "\u001b[0;31mAttributeError\u001b[0m: 'str' object has no attribute 'decode'"
     ]
    }
   ],
   "source": [
    "figures = ('♔', '♖'.decode('utf-8'), '♚'.decode('utf-8'))"
   ]
  },
  {
   "cell_type": "code",
   "execution_count": 3,
   "metadata": {
    "collapsed": true
   },
   "outputs": [],
   "source": [
    "def pos2d(s):\n",
    "    \"\"\"\n",
    "        s - position on the board, for example 'a3' or 'h8'\n",
    "    \"\"\"\n",
    "    column = ord(s[0]) - ord('a')\n",
    "    row = ord(s[1]) - ord('1')\n",
    "    return column, row\n",
    "\n",
    "def print_board(wk, wt, bk):\n",
    "    \"\"\"\n",
    "        wk - position of the white king\n",
    "        wt - position of the white tower\n",
    "        bk - position of the black king\n",
    "      \"\"\"\n",
    "    board = [ [' ' for i in range(8)] for j in range(8) ] \n",
    "    c,r = pos2d(wk)\n",
    "    board[r][c] = figures[0]\n",
    "    c,r = pos2d(wt)\n",
    "    board[r][c] = figures[1]\n",
    "    c,r = pos2d(bk)\n",
    "    board[r][c] = figures[2]\n",
    "    board = [ ([chr(j+49)] + board[j]) for j in range(8) ] + [ [' '] +  [chr(j+97) for j in range(8)] ]\n",
    "    display(HTML(tabulate.tabulate(board, tablefmt='html').replace(\n",
    "        '<table>', '<table style=\"border: 2px solid black;\">').replace(\n",
    "        '<td>'   , '<td    style=\"border: 1px solid black;\">')\n",
    "    ))\n",
    "\n",
    "def print_state_board(game_state):\n",
    "    piece_list = [game_state.king0_pos, game_state.rook0_pos, game_state.king1_pos]\n",
    "    decoded_list = map(lambda x: decode_position(x), piece_list)\n",
    "    print_board(*decoded_list)"
   ]
  },
  {
   "cell_type": "code",
   "execution_count": 5,
   "metadata": {
    "scrolled": false
   },
   "outputs": [],
   "source": [
    "def simulate_game(player_str, king0_str, rook0_str, king1_str):\n",
    "    game_state = create_game_state(player_str, king0_str, rook0_str, king1_str)\n",
    "    state_list = get_step_path(game_state)\n",
    "    print(\"Step count: %d\" % (len(state_list) - 1))\n",
    "    for state in state_list:\n",
    "        print_state_board(state)"
   ]
  },
  {
   "cell_type": "code",
   "execution_count": 6,
   "metadata": {},
   "outputs": [
    {
     "name": "stdout",
     "output_type": "stream",
     "text": [
      "Step count: 4\n"
     ]
    },
    {
     "data": {
      "text/html": [
       "<table style=\"border: 2px solid black;\">\n",
       "<tr><td    style=\"border: 1px solid black;\">1</td><td    style=\"border: 1px solid black;\"> </td><td    style=\"border: 1px solid black;\"> </td><td    style=\"border: 1px solid black;\"> </td><td    style=\"border: 1px solid black;\"> </td><td    style=\"border: 1px solid black;\"> </td><td    style=\"border: 1px solid black;\"> </td><td    style=\"border: 1px solid black;\"> </td><td    style=\"border: 1px solid black;\"> </td></tr>\n",
       "<tr><td    style=\"border: 1px solid black;\">2</td><td    style=\"border: 1px solid black;\"> </td><td    style=\"border: 1px solid black;\"> </td><td    style=\"border: 1px solid black;\"> </td><td    style=\"border: 1px solid black;\"> </td><td    style=\"border: 1px solid black;\"> </td><td    style=\"border: 1px solid black;\"> </td><td    style=\"border: 1px solid black;\"> </td><td    style=\"border: 1px solid black;\"> </td></tr>\n",
       "<tr><td    style=\"border: 1px solid black;\">3</td><td    style=\"border: 1px solid black;\"> </td><td    style=\"border: 1px solid black;\"> </td><td    style=\"border: 1px solid black;\"> </td><td    style=\"border: 1px solid black;\"> </td><td    style=\"border: 1px solid black;\"> </td><td    style=\"border: 1px solid black;\"> </td><td    style=\"border: 1px solid black;\"> </td><td    style=\"border: 1px solid black;\">♚</td></tr>\n",
       "<tr><td    style=\"border: 1px solid black;\">4</td><td    style=\"border: 1px solid black;\"> </td><td    style=\"border: 1px solid black;\"> </td><td    style=\"border: 1px solid black;\">♔</td><td    style=\"border: 1px solid black;\"> </td><td    style=\"border: 1px solid black;\"> </td><td    style=\"border: 1px solid black;\"> </td><td    style=\"border: 1px solid black;\"> </td><td    style=\"border: 1px solid black;\"> </td></tr>\n",
       "<tr><td    style=\"border: 1px solid black;\">5</td><td    style=\"border: 1px solid black;\"> </td><td    style=\"border: 1px solid black;\"> </td><td    style=\"border: 1px solid black;\"> </td><td    style=\"border: 1px solid black;\"> </td><td    style=\"border: 1px solid black;\"> </td><td    style=\"border: 1px solid black;\"> </td><td    style=\"border: 1px solid black;\"> </td><td    style=\"border: 1px solid black;\"> </td></tr>\n",
       "<tr><td    style=\"border: 1px solid black;\">6</td><td    style=\"border: 1px solid black;\"> </td><td    style=\"border: 1px solid black;\"> </td><td    style=\"border: 1px solid black;\"> </td><td    style=\"border: 1px solid black;\"> </td><td    style=\"border: 1px solid black;\"> </td><td    style=\"border: 1px solid black;\"> </td><td    style=\"border: 1px solid black;\"> </td><td    style=\"border: 1px solid black;\"> </td></tr>\n",
       "<tr><td    style=\"border: 1px solid black;\">7</td><td    style=\"border: 1px solid black;\"> </td><td    style=\"border: 1px solid black;\"> </td><td    style=\"border: 1px solid black;\"> </td><td    style=\"border: 1px solid black;\"> </td><td    style=\"border: 1px solid black;\"> </td><td    style=\"border: 1px solid black;\"> </td><td    style=\"border: 1px solid black;\"> </td><td    style=\"border: 1px solid black;\"> </td></tr>\n",
       "<tr><td    style=\"border: 1px solid black;\">8</td><td    style=\"border: 1px solid black;\"> </td><td    style=\"border: 1px solid black;\"> </td><td    style=\"border: 1px solid black;\">♖</td><td    style=\"border: 1px solid black;\"> </td><td    style=\"border: 1px solid black;\"> </td><td    style=\"border: 1px solid black;\"> </td><td    style=\"border: 1px solid black;\"> </td><td    style=\"border: 1px solid black;\"> </td></tr>\n",
       "<tr><td    style=\"border: 1px solid black;\"> </td><td    style=\"border: 1px solid black;\">a</td><td    style=\"border: 1px solid black;\">b</td><td    style=\"border: 1px solid black;\">c</td><td    style=\"border: 1px solid black;\">d</td><td    style=\"border: 1px solid black;\">e</td><td    style=\"border: 1px solid black;\">f</td><td    style=\"border: 1px solid black;\">g</td><td    style=\"border: 1px solid black;\">h</td></tr>\n",
       "</table>"
      ],
      "text/plain": [
       "<IPython.core.display.HTML object>"
      ]
     },
     "metadata": {},
     "output_type": "display_data"
    },
    {
     "data": {
      "text/html": [
       "<table style=\"border: 2px solid black;\">\n",
       "<tr><td    style=\"border: 1px solid black;\">1</td><td    style=\"border: 1px solid black;\"> </td><td    style=\"border: 1px solid black;\"> </td><td    style=\"border: 1px solid black;\"> </td><td    style=\"border: 1px solid black;\"> </td><td    style=\"border: 1px solid black;\"> </td><td    style=\"border: 1px solid black;\"> </td><td    style=\"border: 1px solid black;\"> </td><td    style=\"border: 1px solid black;\"> </td></tr>\n",
       "<tr><td    style=\"border: 1px solid black;\">2</td><td    style=\"border: 1px solid black;\"> </td><td    style=\"border: 1px solid black;\"> </td><td    style=\"border: 1px solid black;\"> </td><td    style=\"border: 1px solid black;\"> </td><td    style=\"border: 1px solid black;\"> </td><td    style=\"border: 1px solid black;\"> </td><td    style=\"border: 1px solid black;\">♚</td><td    style=\"border: 1px solid black;\"> </td></tr>\n",
       "<tr><td    style=\"border: 1px solid black;\">3</td><td    style=\"border: 1px solid black;\"> </td><td    style=\"border: 1px solid black;\"> </td><td    style=\"border: 1px solid black;\"> </td><td    style=\"border: 1px solid black;\"> </td><td    style=\"border: 1px solid black;\"> </td><td    style=\"border: 1px solid black;\"> </td><td    style=\"border: 1px solid black;\"> </td><td    style=\"border: 1px solid black;\"> </td></tr>\n",
       "<tr><td    style=\"border: 1px solid black;\">4</td><td    style=\"border: 1px solid black;\"> </td><td    style=\"border: 1px solid black;\"> </td><td    style=\"border: 1px solid black;\">♔</td><td    style=\"border: 1px solid black;\"> </td><td    style=\"border: 1px solid black;\"> </td><td    style=\"border: 1px solid black;\"> </td><td    style=\"border: 1px solid black;\"> </td><td    style=\"border: 1px solid black;\"> </td></tr>\n",
       "<tr><td    style=\"border: 1px solid black;\">5</td><td    style=\"border: 1px solid black;\"> </td><td    style=\"border: 1px solid black;\"> </td><td    style=\"border: 1px solid black;\"> </td><td    style=\"border: 1px solid black;\"> </td><td    style=\"border: 1px solid black;\"> </td><td    style=\"border: 1px solid black;\"> </td><td    style=\"border: 1px solid black;\"> </td><td    style=\"border: 1px solid black;\"> </td></tr>\n",
       "<tr><td    style=\"border: 1px solid black;\">6</td><td    style=\"border: 1px solid black;\"> </td><td    style=\"border: 1px solid black;\"> </td><td    style=\"border: 1px solid black;\"> </td><td    style=\"border: 1px solid black;\"> </td><td    style=\"border: 1px solid black;\"> </td><td    style=\"border: 1px solid black;\"> </td><td    style=\"border: 1px solid black;\"> </td><td    style=\"border: 1px solid black;\"> </td></tr>\n",
       "<tr><td    style=\"border: 1px solid black;\">7</td><td    style=\"border: 1px solid black;\"> </td><td    style=\"border: 1px solid black;\"> </td><td    style=\"border: 1px solid black;\"> </td><td    style=\"border: 1px solid black;\"> </td><td    style=\"border: 1px solid black;\"> </td><td    style=\"border: 1px solid black;\"> </td><td    style=\"border: 1px solid black;\"> </td><td    style=\"border: 1px solid black;\"> </td></tr>\n",
       "<tr><td    style=\"border: 1px solid black;\">8</td><td    style=\"border: 1px solid black;\"> </td><td    style=\"border: 1px solid black;\"> </td><td    style=\"border: 1px solid black;\">♖</td><td    style=\"border: 1px solid black;\"> </td><td    style=\"border: 1px solid black;\"> </td><td    style=\"border: 1px solid black;\"> </td><td    style=\"border: 1px solid black;\"> </td><td    style=\"border: 1px solid black;\"> </td></tr>\n",
       "<tr><td    style=\"border: 1px solid black;\"> </td><td    style=\"border: 1px solid black;\">a</td><td    style=\"border: 1px solid black;\">b</td><td    style=\"border: 1px solid black;\">c</td><td    style=\"border: 1px solid black;\">d</td><td    style=\"border: 1px solid black;\">e</td><td    style=\"border: 1px solid black;\">f</td><td    style=\"border: 1px solid black;\">g</td><td    style=\"border: 1px solid black;\">h</td></tr>\n",
       "</table>"
      ],
      "text/plain": [
       "<IPython.core.display.HTML object>"
      ]
     },
     "metadata": {},
     "output_type": "display_data"
    },
    {
     "data": {
      "text/html": [
       "<table style=\"border: 2px solid black;\">\n",
       "<tr><td    style=\"border: 1px solid black;\">1</td><td    style=\"border: 1px solid black;\"> </td><td    style=\"border: 1px solid black;\"> </td><td    style=\"border: 1px solid black;\"> </td><td    style=\"border: 1px solid black;\"> </td><td    style=\"border: 1px solid black;\"> </td><td    style=\"border: 1px solid black;\"> </td><td    style=\"border: 1px solid black;\"> </td><td    style=\"border: 1px solid black;\"> </td></tr>\n",
       "<tr><td    style=\"border: 1px solid black;\">2</td><td    style=\"border: 1px solid black;\"> </td><td    style=\"border: 1px solid black;\"> </td><td    style=\"border: 1px solid black;\"> </td><td    style=\"border: 1px solid black;\"> </td><td    style=\"border: 1px solid black;\"> </td><td    style=\"border: 1px solid black;\"> </td><td    style=\"border: 1px solid black;\">♚</td><td    style=\"border: 1px solid black;\"> </td></tr>\n",
       "<tr><td    style=\"border: 1px solid black;\">3</td><td    style=\"border: 1px solid black;\"> </td><td    style=\"border: 1px solid black;\"> </td><td    style=\"border: 1px solid black;\"> </td><td    style=\"border: 1px solid black;\"> </td><td    style=\"border: 1px solid black;\"> </td><td    style=\"border: 1px solid black;\"> </td><td    style=\"border: 1px solid black;\"> </td><td    style=\"border: 1px solid black;\"> </td></tr>\n",
       "<tr><td    style=\"border: 1px solid black;\">4</td><td    style=\"border: 1px solid black;\"> </td><td    style=\"border: 1px solid black;\"> </td><td    style=\"border: 1px solid black;\">♔</td><td    style=\"border: 1px solid black;\"> </td><td    style=\"border: 1px solid black;\"> </td><td    style=\"border: 1px solid black;\"> </td><td    style=\"border: 1px solid black;\"> </td><td    style=\"border: 1px solid black;\"> </td></tr>\n",
       "<tr><td    style=\"border: 1px solid black;\">5</td><td    style=\"border: 1px solid black;\"> </td><td    style=\"border: 1px solid black;\"> </td><td    style=\"border: 1px solid black;\"> </td><td    style=\"border: 1px solid black;\"> </td><td    style=\"border: 1px solid black;\"> </td><td    style=\"border: 1px solid black;\"> </td><td    style=\"border: 1px solid black;\"> </td><td    style=\"border: 1px solid black;\"> </td></tr>\n",
       "<tr><td    style=\"border: 1px solid black;\">6</td><td    style=\"border: 1px solid black;\"> </td><td    style=\"border: 1px solid black;\"> </td><td    style=\"border: 1px solid black;\"> </td><td    style=\"border: 1px solid black;\"> </td><td    style=\"border: 1px solid black;\"> </td><td    style=\"border: 1px solid black;\"> </td><td    style=\"border: 1px solid black;\"> </td><td    style=\"border: 1px solid black;\"> </td></tr>\n",
       "<tr><td    style=\"border: 1px solid black;\">7</td><td    style=\"border: 1px solid black;\"> </td><td    style=\"border: 1px solid black;\"> </td><td    style=\"border: 1px solid black;\"> </td><td    style=\"border: 1px solid black;\"> </td><td    style=\"border: 1px solid black;\"> </td><td    style=\"border: 1px solid black;\"> </td><td    style=\"border: 1px solid black;\"> </td><td    style=\"border: 1px solid black;\"> </td></tr>\n",
       "<tr><td    style=\"border: 1px solid black;\">8</td><td    style=\"border: 1px solid black;\"> </td><td    style=\"border: 1px solid black;\"> </td><td    style=\"border: 1px solid black;\"> </td><td    style=\"border: 1px solid black;\"> </td><td    style=\"border: 1px solid black;\"> </td><td    style=\"border: 1px solid black;\"> </td><td    style=\"border: 1px solid black;\">♖</td><td    style=\"border: 1px solid black;\"> </td></tr>\n",
       "<tr><td    style=\"border: 1px solid black;\"> </td><td    style=\"border: 1px solid black;\">a</td><td    style=\"border: 1px solid black;\">b</td><td    style=\"border: 1px solid black;\">c</td><td    style=\"border: 1px solid black;\">d</td><td    style=\"border: 1px solid black;\">e</td><td    style=\"border: 1px solid black;\">f</td><td    style=\"border: 1px solid black;\">g</td><td    style=\"border: 1px solid black;\">h</td></tr>\n",
       "</table>"
      ],
      "text/plain": [
       "<IPython.core.display.HTML object>"
      ]
     },
     "metadata": {},
     "output_type": "display_data"
    },
    {
     "data": {
      "text/html": [
       "<table style=\"border: 2px solid black;\">\n",
       "<tr><td    style=\"border: 1px solid black;\">1</td><td    style=\"border: 1px solid black;\"> </td><td    style=\"border: 1px solid black;\"> </td><td    style=\"border: 1px solid black;\"> </td><td    style=\"border: 1px solid black;\"> </td><td    style=\"border: 1px solid black;\"> </td><td    style=\"border: 1px solid black;\"> </td><td    style=\"border: 1px solid black;\"> </td><td    style=\"border: 1px solid black;\">♚</td></tr>\n",
       "<tr><td    style=\"border: 1px solid black;\">2</td><td    style=\"border: 1px solid black;\"> </td><td    style=\"border: 1px solid black;\"> </td><td    style=\"border: 1px solid black;\"> </td><td    style=\"border: 1px solid black;\"> </td><td    style=\"border: 1px solid black;\"> </td><td    style=\"border: 1px solid black;\"> </td><td    style=\"border: 1px solid black;\"> </td><td    style=\"border: 1px solid black;\"> </td></tr>\n",
       "<tr><td    style=\"border: 1px solid black;\">3</td><td    style=\"border: 1px solid black;\"> </td><td    style=\"border: 1px solid black;\"> </td><td    style=\"border: 1px solid black;\"> </td><td    style=\"border: 1px solid black;\"> </td><td    style=\"border: 1px solid black;\"> </td><td    style=\"border: 1px solid black;\"> </td><td    style=\"border: 1px solid black;\"> </td><td    style=\"border: 1px solid black;\"> </td></tr>\n",
       "<tr><td    style=\"border: 1px solid black;\">4</td><td    style=\"border: 1px solid black;\"> </td><td    style=\"border: 1px solid black;\"> </td><td    style=\"border: 1px solid black;\">♔</td><td    style=\"border: 1px solid black;\"> </td><td    style=\"border: 1px solid black;\"> </td><td    style=\"border: 1px solid black;\"> </td><td    style=\"border: 1px solid black;\"> </td><td    style=\"border: 1px solid black;\"> </td></tr>\n",
       "<tr><td    style=\"border: 1px solid black;\">5</td><td    style=\"border: 1px solid black;\"> </td><td    style=\"border: 1px solid black;\"> </td><td    style=\"border: 1px solid black;\"> </td><td    style=\"border: 1px solid black;\"> </td><td    style=\"border: 1px solid black;\"> </td><td    style=\"border: 1px solid black;\"> </td><td    style=\"border: 1px solid black;\"> </td><td    style=\"border: 1px solid black;\"> </td></tr>\n",
       "<tr><td    style=\"border: 1px solid black;\">6</td><td    style=\"border: 1px solid black;\"> </td><td    style=\"border: 1px solid black;\"> </td><td    style=\"border: 1px solid black;\"> </td><td    style=\"border: 1px solid black;\"> </td><td    style=\"border: 1px solid black;\"> </td><td    style=\"border: 1px solid black;\"> </td><td    style=\"border: 1px solid black;\"> </td><td    style=\"border: 1px solid black;\"> </td></tr>\n",
       "<tr><td    style=\"border: 1px solid black;\">7</td><td    style=\"border: 1px solid black;\"> </td><td    style=\"border: 1px solid black;\"> </td><td    style=\"border: 1px solid black;\"> </td><td    style=\"border: 1px solid black;\"> </td><td    style=\"border: 1px solid black;\"> </td><td    style=\"border: 1px solid black;\"> </td><td    style=\"border: 1px solid black;\"> </td><td    style=\"border: 1px solid black;\"> </td></tr>\n",
       "<tr><td    style=\"border: 1px solid black;\">8</td><td    style=\"border: 1px solid black;\"> </td><td    style=\"border: 1px solid black;\"> </td><td    style=\"border: 1px solid black;\"> </td><td    style=\"border: 1px solid black;\"> </td><td    style=\"border: 1px solid black;\"> </td><td    style=\"border: 1px solid black;\"> </td><td    style=\"border: 1px solid black;\">♖</td><td    style=\"border: 1px solid black;\"> </td></tr>\n",
       "<tr><td    style=\"border: 1px solid black;\"> </td><td    style=\"border: 1px solid black;\">a</td><td    style=\"border: 1px solid black;\">b</td><td    style=\"border: 1px solid black;\">c</td><td    style=\"border: 1px solid black;\">d</td><td    style=\"border: 1px solid black;\">e</td><td    style=\"border: 1px solid black;\">f</td><td    style=\"border: 1px solid black;\">g</td><td    style=\"border: 1px solid black;\">h</td></tr>\n",
       "</table>"
      ],
      "text/plain": [
       "<IPython.core.display.HTML object>"
      ]
     },
     "metadata": {},
     "output_type": "display_data"
    },
    {
     "data": {
      "text/html": [
       "<table style=\"border: 2px solid black;\">\n",
       "<tr><td    style=\"border: 1px solid black;\">1</td><td    style=\"border: 1px solid black;\"> </td><td    style=\"border: 1px solid black;\"> </td><td    style=\"border: 1px solid black;\"> </td><td    style=\"border: 1px solid black;\"> </td><td    style=\"border: 1px solid black;\"> </td><td    style=\"border: 1px solid black;\"> </td><td    style=\"border: 1px solid black;\"> </td><td    style=\"border: 1px solid black;\">♚</td></tr>\n",
       "<tr><td    style=\"border: 1px solid black;\">2</td><td    style=\"border: 1px solid black;\"> </td><td    style=\"border: 1px solid black;\"> </td><td    style=\"border: 1px solid black;\"> </td><td    style=\"border: 1px solid black;\"> </td><td    style=\"border: 1px solid black;\"> </td><td    style=\"border: 1px solid black;\"> </td><td    style=\"border: 1px solid black;\">♖</td><td    style=\"border: 1px solid black;\"> </td></tr>\n",
       "<tr><td    style=\"border: 1px solid black;\">3</td><td    style=\"border: 1px solid black;\"> </td><td    style=\"border: 1px solid black;\"> </td><td    style=\"border: 1px solid black;\"> </td><td    style=\"border: 1px solid black;\"> </td><td    style=\"border: 1px solid black;\"> </td><td    style=\"border: 1px solid black;\"> </td><td    style=\"border: 1px solid black;\"> </td><td    style=\"border: 1px solid black;\"> </td></tr>\n",
       "<tr><td    style=\"border: 1px solid black;\">4</td><td    style=\"border: 1px solid black;\"> </td><td    style=\"border: 1px solid black;\"> </td><td    style=\"border: 1px solid black;\">♔</td><td    style=\"border: 1px solid black;\"> </td><td    style=\"border: 1px solid black;\"> </td><td    style=\"border: 1px solid black;\"> </td><td    style=\"border: 1px solid black;\"> </td><td    style=\"border: 1px solid black;\"> </td></tr>\n",
       "<tr><td    style=\"border: 1px solid black;\">5</td><td    style=\"border: 1px solid black;\"> </td><td    style=\"border: 1px solid black;\"> </td><td    style=\"border: 1px solid black;\"> </td><td    style=\"border: 1px solid black;\"> </td><td    style=\"border: 1px solid black;\"> </td><td    style=\"border: 1px solid black;\"> </td><td    style=\"border: 1px solid black;\"> </td><td    style=\"border: 1px solid black;\"> </td></tr>\n",
       "<tr><td    style=\"border: 1px solid black;\">6</td><td    style=\"border: 1px solid black;\"> </td><td    style=\"border: 1px solid black;\"> </td><td    style=\"border: 1px solid black;\"> </td><td    style=\"border: 1px solid black;\"> </td><td    style=\"border: 1px solid black;\"> </td><td    style=\"border: 1px solid black;\"> </td><td    style=\"border: 1px solid black;\"> </td><td    style=\"border: 1px solid black;\"> </td></tr>\n",
       "<tr><td    style=\"border: 1px solid black;\">7</td><td    style=\"border: 1px solid black;\"> </td><td    style=\"border: 1px solid black;\"> </td><td    style=\"border: 1px solid black;\"> </td><td    style=\"border: 1px solid black;\"> </td><td    style=\"border: 1px solid black;\"> </td><td    style=\"border: 1px solid black;\"> </td><td    style=\"border: 1px solid black;\"> </td><td    style=\"border: 1px solid black;\"> </td></tr>\n",
       "<tr><td    style=\"border: 1px solid black;\">8</td><td    style=\"border: 1px solid black;\"> </td><td    style=\"border: 1px solid black;\"> </td><td    style=\"border: 1px solid black;\"> </td><td    style=\"border: 1px solid black;\"> </td><td    style=\"border: 1px solid black;\"> </td><td    style=\"border: 1px solid black;\"> </td><td    style=\"border: 1px solid black;\"> </td><td    style=\"border: 1px solid black;\"> </td></tr>\n",
       "<tr><td    style=\"border: 1px solid black;\"> </td><td    style=\"border: 1px solid black;\">a</td><td    style=\"border: 1px solid black;\">b</td><td    style=\"border: 1px solid black;\">c</td><td    style=\"border: 1px solid black;\">d</td><td    style=\"border: 1px solid black;\">e</td><td    style=\"border: 1px solid black;\">f</td><td    style=\"border: 1px solid black;\">g</td><td    style=\"border: 1px solid black;\">h</td></tr>\n",
       "</table>"
      ],
      "text/plain": [
       "<IPython.core.display.HTML object>"
      ]
     },
     "metadata": {},
     "output_type": "display_data"
    }
   ],
   "source": [
    "simulate_game('black', 'c4', 'c8', 'h3')"
   ]
  },
  {
   "cell_type": "code",
   "execution_count": 7,
   "metadata": {},
   "outputs": [
    {
     "name": "stdout",
     "output_type": "stream",
     "text": [
      "Step count: 5\n"
     ]
    },
    {
     "data": {
      "text/html": [
       "<table style=\"border: 2px solid black;\">\n",
       "<tr><td    style=\"border: 1px solid black;\">1</td><td    style=\"border: 1px solid black;\">♔</td><td    style=\"border: 1px solid black;\"> </td><td    style=\"border: 1px solid black;\"> </td><td    style=\"border: 1px solid black;\"> </td><td    style=\"border: 1px solid black;\"> </td><td    style=\"border: 1px solid black;\"> </td><td    style=\"border: 1px solid black;\"> </td><td    style=\"border: 1px solid black;\"> </td></tr>\n",
       "<tr><td    style=\"border: 1px solid black;\">2</td><td    style=\"border: 1px solid black;\"> </td><td    style=\"border: 1px solid black;\">♖</td><td    style=\"border: 1px solid black;\"> </td><td    style=\"border: 1px solid black;\"> </td><td    style=\"border: 1px solid black;\"> </td><td    style=\"border: 1px solid black;\"> </td><td    style=\"border: 1px solid black;\"> </td><td    style=\"border: 1px solid black;\"> </td></tr>\n",
       "<tr><td    style=\"border: 1px solid black;\">3</td><td    style=\"border: 1px solid black;\"> </td><td    style=\"border: 1px solid black;\"> </td><td    style=\"border: 1px solid black;\">♚</td><td    style=\"border: 1px solid black;\"> </td><td    style=\"border: 1px solid black;\"> </td><td    style=\"border: 1px solid black;\"> </td><td    style=\"border: 1px solid black;\"> </td><td    style=\"border: 1px solid black;\"> </td></tr>\n",
       "<tr><td    style=\"border: 1px solid black;\">4</td><td    style=\"border: 1px solid black;\"> </td><td    style=\"border: 1px solid black;\"> </td><td    style=\"border: 1px solid black;\"> </td><td    style=\"border: 1px solid black;\"> </td><td    style=\"border: 1px solid black;\"> </td><td    style=\"border: 1px solid black;\"> </td><td    style=\"border: 1px solid black;\"> </td><td    style=\"border: 1px solid black;\"> </td></tr>\n",
       "<tr><td    style=\"border: 1px solid black;\">5</td><td    style=\"border: 1px solid black;\"> </td><td    style=\"border: 1px solid black;\"> </td><td    style=\"border: 1px solid black;\"> </td><td    style=\"border: 1px solid black;\"> </td><td    style=\"border: 1px solid black;\"> </td><td    style=\"border: 1px solid black;\"> </td><td    style=\"border: 1px solid black;\"> </td><td    style=\"border: 1px solid black;\"> </td></tr>\n",
       "<tr><td    style=\"border: 1px solid black;\">6</td><td    style=\"border: 1px solid black;\"> </td><td    style=\"border: 1px solid black;\"> </td><td    style=\"border: 1px solid black;\"> </td><td    style=\"border: 1px solid black;\"> </td><td    style=\"border: 1px solid black;\"> </td><td    style=\"border: 1px solid black;\"> </td><td    style=\"border: 1px solid black;\"> </td><td    style=\"border: 1px solid black;\"> </td></tr>\n",
       "<tr><td    style=\"border: 1px solid black;\">7</td><td    style=\"border: 1px solid black;\"> </td><td    style=\"border: 1px solid black;\"> </td><td    style=\"border: 1px solid black;\"> </td><td    style=\"border: 1px solid black;\"> </td><td    style=\"border: 1px solid black;\"> </td><td    style=\"border: 1px solid black;\"> </td><td    style=\"border: 1px solid black;\"> </td><td    style=\"border: 1px solid black;\"> </td></tr>\n",
       "<tr><td    style=\"border: 1px solid black;\">8</td><td    style=\"border: 1px solid black;\"> </td><td    style=\"border: 1px solid black;\"> </td><td    style=\"border: 1px solid black;\"> </td><td    style=\"border: 1px solid black;\"> </td><td    style=\"border: 1px solid black;\"> </td><td    style=\"border: 1px solid black;\"> </td><td    style=\"border: 1px solid black;\"> </td><td    style=\"border: 1px solid black;\"> </td></tr>\n",
       "<tr><td    style=\"border: 1px solid black;\"> </td><td    style=\"border: 1px solid black;\">a</td><td    style=\"border: 1px solid black;\">b</td><td    style=\"border: 1px solid black;\">c</td><td    style=\"border: 1px solid black;\">d</td><td    style=\"border: 1px solid black;\">e</td><td    style=\"border: 1px solid black;\">f</td><td    style=\"border: 1px solid black;\">g</td><td    style=\"border: 1px solid black;\">h</td></tr>\n",
       "</table>"
      ],
      "text/plain": [
       "<IPython.core.display.HTML object>"
      ]
     },
     "metadata": {},
     "output_type": "display_data"
    },
    {
     "data": {
      "text/html": [
       "<table style=\"border: 2px solid black;\">\n",
       "<tr><td    style=\"border: 1px solid black;\">1</td><td    style=\"border: 1px solid black;\">♔</td><td    style=\"border: 1px solid black;\"> </td><td    style=\"border: 1px solid black;\"> </td><td    style=\"border: 1px solid black;\"> </td><td    style=\"border: 1px solid black;\"> </td><td    style=\"border: 1px solid black;\"> </td><td    style=\"border: 1px solid black;\"> </td><td    style=\"border: 1px solid black;\"> </td></tr>\n",
       "<tr><td    style=\"border: 1px solid black;\">2</td><td    style=\"border: 1px solid black;\"> </td><td    style=\"border: 1px solid black;\"> </td><td    style=\"border: 1px solid black;\">♖</td><td    style=\"border: 1px solid black;\"> </td><td    style=\"border: 1px solid black;\"> </td><td    style=\"border: 1px solid black;\"> </td><td    style=\"border: 1px solid black;\"> </td><td    style=\"border: 1px solid black;\"> </td></tr>\n",
       "<tr><td    style=\"border: 1px solid black;\">3</td><td    style=\"border: 1px solid black;\"> </td><td    style=\"border: 1px solid black;\"> </td><td    style=\"border: 1px solid black;\">♚</td><td    style=\"border: 1px solid black;\"> </td><td    style=\"border: 1px solid black;\"> </td><td    style=\"border: 1px solid black;\"> </td><td    style=\"border: 1px solid black;\"> </td><td    style=\"border: 1px solid black;\"> </td></tr>\n",
       "<tr><td    style=\"border: 1px solid black;\">4</td><td    style=\"border: 1px solid black;\"> </td><td    style=\"border: 1px solid black;\"> </td><td    style=\"border: 1px solid black;\"> </td><td    style=\"border: 1px solid black;\"> </td><td    style=\"border: 1px solid black;\"> </td><td    style=\"border: 1px solid black;\"> </td><td    style=\"border: 1px solid black;\"> </td><td    style=\"border: 1px solid black;\"> </td></tr>\n",
       "<tr><td    style=\"border: 1px solid black;\">5</td><td    style=\"border: 1px solid black;\"> </td><td    style=\"border: 1px solid black;\"> </td><td    style=\"border: 1px solid black;\"> </td><td    style=\"border: 1px solid black;\"> </td><td    style=\"border: 1px solid black;\"> </td><td    style=\"border: 1px solid black;\"> </td><td    style=\"border: 1px solid black;\"> </td><td    style=\"border: 1px solid black;\"> </td></tr>\n",
       "<tr><td    style=\"border: 1px solid black;\">6</td><td    style=\"border: 1px solid black;\"> </td><td    style=\"border: 1px solid black;\"> </td><td    style=\"border: 1px solid black;\"> </td><td    style=\"border: 1px solid black;\"> </td><td    style=\"border: 1px solid black;\"> </td><td    style=\"border: 1px solid black;\"> </td><td    style=\"border: 1px solid black;\"> </td><td    style=\"border: 1px solid black;\"> </td></tr>\n",
       "<tr><td    style=\"border: 1px solid black;\">7</td><td    style=\"border: 1px solid black;\"> </td><td    style=\"border: 1px solid black;\"> </td><td    style=\"border: 1px solid black;\"> </td><td    style=\"border: 1px solid black;\"> </td><td    style=\"border: 1px solid black;\"> </td><td    style=\"border: 1px solid black;\"> </td><td    style=\"border: 1px solid black;\"> </td><td    style=\"border: 1px solid black;\"> </td></tr>\n",
       "<tr><td    style=\"border: 1px solid black;\">8</td><td    style=\"border: 1px solid black;\"> </td><td    style=\"border: 1px solid black;\"> </td><td    style=\"border: 1px solid black;\"> </td><td    style=\"border: 1px solid black;\"> </td><td    style=\"border: 1px solid black;\"> </td><td    style=\"border: 1px solid black;\"> </td><td    style=\"border: 1px solid black;\"> </td><td    style=\"border: 1px solid black;\"> </td></tr>\n",
       "<tr><td    style=\"border: 1px solid black;\"> </td><td    style=\"border: 1px solid black;\">a</td><td    style=\"border: 1px solid black;\">b</td><td    style=\"border: 1px solid black;\">c</td><td    style=\"border: 1px solid black;\">d</td><td    style=\"border: 1px solid black;\">e</td><td    style=\"border: 1px solid black;\">f</td><td    style=\"border: 1px solid black;\">g</td><td    style=\"border: 1px solid black;\">h</td></tr>\n",
       "</table>"
      ],
      "text/plain": [
       "<IPython.core.display.HTML object>"
      ]
     },
     "metadata": {},
     "output_type": "display_data"
    },
    {
     "data": {
      "text/html": [
       "<table style=\"border: 2px solid black;\">\n",
       "<tr><td    style=\"border: 1px solid black;\">1</td><td    style=\"border: 1px solid black;\">♔</td><td    style=\"border: 1px solid black;\"> </td><td    style=\"border: 1px solid black;\"> </td><td    style=\"border: 1px solid black;\"> </td><td    style=\"border: 1px solid black;\"> </td><td    style=\"border: 1px solid black;\"> </td><td    style=\"border: 1px solid black;\"> </td><td    style=\"border: 1px solid black;\"> </td></tr>\n",
       "<tr><td    style=\"border: 1px solid black;\">2</td><td    style=\"border: 1px solid black;\"> </td><td    style=\"border: 1px solid black;\"> </td><td    style=\"border: 1px solid black;\">♖</td><td    style=\"border: 1px solid black;\"> </td><td    style=\"border: 1px solid black;\"> </td><td    style=\"border: 1px solid black;\"> </td><td    style=\"border: 1px solid black;\"> </td><td    style=\"border: 1px solid black;\"> </td></tr>\n",
       "<tr><td    style=\"border: 1px solid black;\">3</td><td    style=\"border: 1px solid black;\"> </td><td    style=\"border: 1px solid black;\">♚</td><td    style=\"border: 1px solid black;\"> </td><td    style=\"border: 1px solid black;\"> </td><td    style=\"border: 1px solid black;\"> </td><td    style=\"border: 1px solid black;\"> </td><td    style=\"border: 1px solid black;\"> </td><td    style=\"border: 1px solid black;\"> </td></tr>\n",
       "<tr><td    style=\"border: 1px solid black;\">4</td><td    style=\"border: 1px solid black;\"> </td><td    style=\"border: 1px solid black;\"> </td><td    style=\"border: 1px solid black;\"> </td><td    style=\"border: 1px solid black;\"> </td><td    style=\"border: 1px solid black;\"> </td><td    style=\"border: 1px solid black;\"> </td><td    style=\"border: 1px solid black;\"> </td><td    style=\"border: 1px solid black;\"> </td></tr>\n",
       "<tr><td    style=\"border: 1px solid black;\">5</td><td    style=\"border: 1px solid black;\"> </td><td    style=\"border: 1px solid black;\"> </td><td    style=\"border: 1px solid black;\"> </td><td    style=\"border: 1px solid black;\"> </td><td    style=\"border: 1px solid black;\"> </td><td    style=\"border: 1px solid black;\"> </td><td    style=\"border: 1px solid black;\"> </td><td    style=\"border: 1px solid black;\"> </td></tr>\n",
       "<tr><td    style=\"border: 1px solid black;\">6</td><td    style=\"border: 1px solid black;\"> </td><td    style=\"border: 1px solid black;\"> </td><td    style=\"border: 1px solid black;\"> </td><td    style=\"border: 1px solid black;\"> </td><td    style=\"border: 1px solid black;\"> </td><td    style=\"border: 1px solid black;\"> </td><td    style=\"border: 1px solid black;\"> </td><td    style=\"border: 1px solid black;\"> </td></tr>\n",
       "<tr><td    style=\"border: 1px solid black;\">7</td><td    style=\"border: 1px solid black;\"> </td><td    style=\"border: 1px solid black;\"> </td><td    style=\"border: 1px solid black;\"> </td><td    style=\"border: 1px solid black;\"> </td><td    style=\"border: 1px solid black;\"> </td><td    style=\"border: 1px solid black;\"> </td><td    style=\"border: 1px solid black;\"> </td><td    style=\"border: 1px solid black;\"> </td></tr>\n",
       "<tr><td    style=\"border: 1px solid black;\">8</td><td    style=\"border: 1px solid black;\"> </td><td    style=\"border: 1px solid black;\"> </td><td    style=\"border: 1px solid black;\"> </td><td    style=\"border: 1px solid black;\"> </td><td    style=\"border: 1px solid black;\"> </td><td    style=\"border: 1px solid black;\"> </td><td    style=\"border: 1px solid black;\"> </td><td    style=\"border: 1px solid black;\"> </td></tr>\n",
       "<tr><td    style=\"border: 1px solid black;\"> </td><td    style=\"border: 1px solid black;\">a</td><td    style=\"border: 1px solid black;\">b</td><td    style=\"border: 1px solid black;\">c</td><td    style=\"border: 1px solid black;\">d</td><td    style=\"border: 1px solid black;\">e</td><td    style=\"border: 1px solid black;\">f</td><td    style=\"border: 1px solid black;\">g</td><td    style=\"border: 1px solid black;\">h</td></tr>\n",
       "</table>"
      ],
      "text/plain": [
       "<IPython.core.display.HTML object>"
      ]
     },
     "metadata": {},
     "output_type": "display_data"
    },
    {
     "data": {
      "text/html": [
       "<table style=\"border: 2px solid black;\">\n",
       "<tr><td    style=\"border: 1px solid black;\">1</td><td    style=\"border: 1px solid black;\">♔</td><td    style=\"border: 1px solid black;\"> </td><td    style=\"border: 1px solid black;\"> </td><td    style=\"border: 1px solid black;\"> </td><td    style=\"border: 1px solid black;\"> </td><td    style=\"border: 1px solid black;\"> </td><td    style=\"border: 1px solid black;\"> </td><td    style=\"border: 1px solid black;\"> </td></tr>\n",
       "<tr><td    style=\"border: 1px solid black;\">2</td><td    style=\"border: 1px solid black;\"> </td><td    style=\"border: 1px solid black;\">♖</td><td    style=\"border: 1px solid black;\"> </td><td    style=\"border: 1px solid black;\"> </td><td    style=\"border: 1px solid black;\"> </td><td    style=\"border: 1px solid black;\"> </td><td    style=\"border: 1px solid black;\"> </td><td    style=\"border: 1px solid black;\"> </td></tr>\n",
       "<tr><td    style=\"border: 1px solid black;\">3</td><td    style=\"border: 1px solid black;\"> </td><td    style=\"border: 1px solid black;\">♚</td><td    style=\"border: 1px solid black;\"> </td><td    style=\"border: 1px solid black;\"> </td><td    style=\"border: 1px solid black;\"> </td><td    style=\"border: 1px solid black;\"> </td><td    style=\"border: 1px solid black;\"> </td><td    style=\"border: 1px solid black;\"> </td></tr>\n",
       "<tr><td    style=\"border: 1px solid black;\">4</td><td    style=\"border: 1px solid black;\"> </td><td    style=\"border: 1px solid black;\"> </td><td    style=\"border: 1px solid black;\"> </td><td    style=\"border: 1px solid black;\"> </td><td    style=\"border: 1px solid black;\"> </td><td    style=\"border: 1px solid black;\"> </td><td    style=\"border: 1px solid black;\"> </td><td    style=\"border: 1px solid black;\"> </td></tr>\n",
       "<tr><td    style=\"border: 1px solid black;\">5</td><td    style=\"border: 1px solid black;\"> </td><td    style=\"border: 1px solid black;\"> </td><td    style=\"border: 1px solid black;\"> </td><td    style=\"border: 1px solid black;\"> </td><td    style=\"border: 1px solid black;\"> </td><td    style=\"border: 1px solid black;\"> </td><td    style=\"border: 1px solid black;\"> </td><td    style=\"border: 1px solid black;\"> </td></tr>\n",
       "<tr><td    style=\"border: 1px solid black;\">6</td><td    style=\"border: 1px solid black;\"> </td><td    style=\"border: 1px solid black;\"> </td><td    style=\"border: 1px solid black;\"> </td><td    style=\"border: 1px solid black;\"> </td><td    style=\"border: 1px solid black;\"> </td><td    style=\"border: 1px solid black;\"> </td><td    style=\"border: 1px solid black;\"> </td><td    style=\"border: 1px solid black;\"> </td></tr>\n",
       "<tr><td    style=\"border: 1px solid black;\">7</td><td    style=\"border: 1px solid black;\"> </td><td    style=\"border: 1px solid black;\"> </td><td    style=\"border: 1px solid black;\"> </td><td    style=\"border: 1px solid black;\"> </td><td    style=\"border: 1px solid black;\"> </td><td    style=\"border: 1px solid black;\"> </td><td    style=\"border: 1px solid black;\"> </td><td    style=\"border: 1px solid black;\"> </td></tr>\n",
       "<tr><td    style=\"border: 1px solid black;\">8</td><td    style=\"border: 1px solid black;\"> </td><td    style=\"border: 1px solid black;\"> </td><td    style=\"border: 1px solid black;\"> </td><td    style=\"border: 1px solid black;\"> </td><td    style=\"border: 1px solid black;\"> </td><td    style=\"border: 1px solid black;\"> </td><td    style=\"border: 1px solid black;\"> </td><td    style=\"border: 1px solid black;\"> </td></tr>\n",
       "<tr><td    style=\"border: 1px solid black;\"> </td><td    style=\"border: 1px solid black;\">a</td><td    style=\"border: 1px solid black;\">b</td><td    style=\"border: 1px solid black;\">c</td><td    style=\"border: 1px solid black;\">d</td><td    style=\"border: 1px solid black;\">e</td><td    style=\"border: 1px solid black;\">f</td><td    style=\"border: 1px solid black;\">g</td><td    style=\"border: 1px solid black;\">h</td></tr>\n",
       "</table>"
      ],
      "text/plain": [
       "<IPython.core.display.HTML object>"
      ]
     },
     "metadata": {},
     "output_type": "display_data"
    },
    {
     "data": {
      "text/html": [
       "<table style=\"border: 2px solid black;\">\n",
       "<tr><td    style=\"border: 1px solid black;\">1</td><td    style=\"border: 1px solid black;\">♔</td><td    style=\"border: 1px solid black;\"> </td><td    style=\"border: 1px solid black;\"> </td><td    style=\"border: 1px solid black;\"> </td><td    style=\"border: 1px solid black;\"> </td><td    style=\"border: 1px solid black;\"> </td><td    style=\"border: 1px solid black;\"> </td><td    style=\"border: 1px solid black;\"> </td></tr>\n",
       "<tr><td    style=\"border: 1px solid black;\">2</td><td    style=\"border: 1px solid black;\"> </td><td    style=\"border: 1px solid black;\">♖</td><td    style=\"border: 1px solid black;\"> </td><td    style=\"border: 1px solid black;\"> </td><td    style=\"border: 1px solid black;\"> </td><td    style=\"border: 1px solid black;\"> </td><td    style=\"border: 1px solid black;\"> </td><td    style=\"border: 1px solid black;\"> </td></tr>\n",
       "<tr><td    style=\"border: 1px solid black;\">3</td><td    style=\"border: 1px solid black;\">♚</td><td    style=\"border: 1px solid black;\"> </td><td    style=\"border: 1px solid black;\"> </td><td    style=\"border: 1px solid black;\"> </td><td    style=\"border: 1px solid black;\"> </td><td    style=\"border: 1px solid black;\"> </td><td    style=\"border: 1px solid black;\"> </td><td    style=\"border: 1px solid black;\"> </td></tr>\n",
       "<tr><td    style=\"border: 1px solid black;\">4</td><td    style=\"border: 1px solid black;\"> </td><td    style=\"border: 1px solid black;\"> </td><td    style=\"border: 1px solid black;\"> </td><td    style=\"border: 1px solid black;\"> </td><td    style=\"border: 1px solid black;\"> </td><td    style=\"border: 1px solid black;\"> </td><td    style=\"border: 1px solid black;\"> </td><td    style=\"border: 1px solid black;\"> </td></tr>\n",
       "<tr><td    style=\"border: 1px solid black;\">5</td><td    style=\"border: 1px solid black;\"> </td><td    style=\"border: 1px solid black;\"> </td><td    style=\"border: 1px solid black;\"> </td><td    style=\"border: 1px solid black;\"> </td><td    style=\"border: 1px solid black;\"> </td><td    style=\"border: 1px solid black;\"> </td><td    style=\"border: 1px solid black;\"> </td><td    style=\"border: 1px solid black;\"> </td></tr>\n",
       "<tr><td    style=\"border: 1px solid black;\">6</td><td    style=\"border: 1px solid black;\"> </td><td    style=\"border: 1px solid black;\"> </td><td    style=\"border: 1px solid black;\"> </td><td    style=\"border: 1px solid black;\"> </td><td    style=\"border: 1px solid black;\"> </td><td    style=\"border: 1px solid black;\"> </td><td    style=\"border: 1px solid black;\"> </td><td    style=\"border: 1px solid black;\"> </td></tr>\n",
       "<tr><td    style=\"border: 1px solid black;\">7</td><td    style=\"border: 1px solid black;\"> </td><td    style=\"border: 1px solid black;\"> </td><td    style=\"border: 1px solid black;\"> </td><td    style=\"border: 1px solid black;\"> </td><td    style=\"border: 1px solid black;\"> </td><td    style=\"border: 1px solid black;\"> </td><td    style=\"border: 1px solid black;\"> </td><td    style=\"border: 1px solid black;\"> </td></tr>\n",
       "<tr><td    style=\"border: 1px solid black;\">8</td><td    style=\"border: 1px solid black;\"> </td><td    style=\"border: 1px solid black;\"> </td><td    style=\"border: 1px solid black;\"> </td><td    style=\"border: 1px solid black;\"> </td><td    style=\"border: 1px solid black;\"> </td><td    style=\"border: 1px solid black;\"> </td><td    style=\"border: 1px solid black;\"> </td><td    style=\"border: 1px solid black;\"> </td></tr>\n",
       "<tr><td    style=\"border: 1px solid black;\"> </td><td    style=\"border: 1px solid black;\">a</td><td    style=\"border: 1px solid black;\">b</td><td    style=\"border: 1px solid black;\">c</td><td    style=\"border: 1px solid black;\">d</td><td    style=\"border: 1px solid black;\">e</td><td    style=\"border: 1px solid black;\">f</td><td    style=\"border: 1px solid black;\">g</td><td    style=\"border: 1px solid black;\">h</td></tr>\n",
       "</table>"
      ],
      "text/plain": [
       "<IPython.core.display.HTML object>"
      ]
     },
     "metadata": {},
     "output_type": "display_data"
    },
    {
     "data": {
      "text/html": [
       "<table style=\"border: 2px solid black;\">\n",
       "<tr><td    style=\"border: 1px solid black;\">1</td><td    style=\"border: 1px solid black;\">♔</td><td    style=\"border: 1px solid black;\"> </td><td    style=\"border: 1px solid black;\"> </td><td    style=\"border: 1px solid black;\"> </td><td    style=\"border: 1px solid black;\"> </td><td    style=\"border: 1px solid black;\"> </td><td    style=\"border: 1px solid black;\"> </td><td    style=\"border: 1px solid black;\"> </td></tr>\n",
       "<tr><td    style=\"border: 1px solid black;\">2</td><td    style=\"border: 1px solid black;\"> </td><td    style=\"border: 1px solid black;\"> </td><td    style=\"border: 1px solid black;\"> </td><td    style=\"border: 1px solid black;\"> </td><td    style=\"border: 1px solid black;\"> </td><td    style=\"border: 1px solid black;\"> </td><td    style=\"border: 1px solid black;\"> </td><td    style=\"border: 1px solid black;\"> </td></tr>\n",
       "<tr><td    style=\"border: 1px solid black;\">3</td><td    style=\"border: 1px solid black;\">♚</td><td    style=\"border: 1px solid black;\"> </td><td    style=\"border: 1px solid black;\"> </td><td    style=\"border: 1px solid black;\"> </td><td    style=\"border: 1px solid black;\"> </td><td    style=\"border: 1px solid black;\"> </td><td    style=\"border: 1px solid black;\"> </td><td    style=\"border: 1px solid black;\"> </td></tr>\n",
       "<tr><td    style=\"border: 1px solid black;\">4</td><td    style=\"border: 1px solid black;\"> </td><td    style=\"border: 1px solid black;\">♖</td><td    style=\"border: 1px solid black;\"> </td><td    style=\"border: 1px solid black;\"> </td><td    style=\"border: 1px solid black;\"> </td><td    style=\"border: 1px solid black;\"> </td><td    style=\"border: 1px solid black;\"> </td><td    style=\"border: 1px solid black;\"> </td></tr>\n",
       "<tr><td    style=\"border: 1px solid black;\">5</td><td    style=\"border: 1px solid black;\"> </td><td    style=\"border: 1px solid black;\"> </td><td    style=\"border: 1px solid black;\"> </td><td    style=\"border: 1px solid black;\"> </td><td    style=\"border: 1px solid black;\"> </td><td    style=\"border: 1px solid black;\"> </td><td    style=\"border: 1px solid black;\"> </td><td    style=\"border: 1px solid black;\"> </td></tr>\n",
       "<tr><td    style=\"border: 1px solid black;\">6</td><td    style=\"border: 1px solid black;\"> </td><td    style=\"border: 1px solid black;\"> </td><td    style=\"border: 1px solid black;\"> </td><td    style=\"border: 1px solid black;\"> </td><td    style=\"border: 1px solid black;\"> </td><td    style=\"border: 1px solid black;\"> </td><td    style=\"border: 1px solid black;\"> </td><td    style=\"border: 1px solid black;\"> </td></tr>\n",
       "<tr><td    style=\"border: 1px solid black;\">7</td><td    style=\"border: 1px solid black;\"> </td><td    style=\"border: 1px solid black;\"> </td><td    style=\"border: 1px solid black;\"> </td><td    style=\"border: 1px solid black;\"> </td><td    style=\"border: 1px solid black;\"> </td><td    style=\"border: 1px solid black;\"> </td><td    style=\"border: 1px solid black;\"> </td><td    style=\"border: 1px solid black;\"> </td></tr>\n",
       "<tr><td    style=\"border: 1px solid black;\">8</td><td    style=\"border: 1px solid black;\"> </td><td    style=\"border: 1px solid black;\"> </td><td    style=\"border: 1px solid black;\"> </td><td    style=\"border: 1px solid black;\"> </td><td    style=\"border: 1px solid black;\"> </td><td    style=\"border: 1px solid black;\"> </td><td    style=\"border: 1px solid black;\"> </td><td    style=\"border: 1px solid black;\"> </td></tr>\n",
       "<tr><td    style=\"border: 1px solid black;\"> </td><td    style=\"border: 1px solid black;\">a</td><td    style=\"border: 1px solid black;\">b</td><td    style=\"border: 1px solid black;\">c</td><td    style=\"border: 1px solid black;\">d</td><td    style=\"border: 1px solid black;\">e</td><td    style=\"border: 1px solid black;\">f</td><td    style=\"border: 1px solid black;\">g</td><td    style=\"border: 1px solid black;\">h</td></tr>\n",
       "</table>"
      ],
      "text/plain": [
       "<IPython.core.display.HTML object>"
      ]
     },
     "metadata": {},
     "output_type": "display_data"
    }
   ],
   "source": [
    "simulate_game('white', 'a1', 'b2', 'c3')"
   ]
  }
 ],
 "metadata": {
  "kernelspec": {
   "display_name": "Python 3",
   "language": "python",
   "name": "python3"
  },
  "language_info": {
   "codemirror_mode": {
    "name": "ipython",
    "version": 3
   },
   "file_extension": ".py",
   "mimetype": "text/x-python",
   "name": "python",
   "nbconvert_exporter": "python",
   "pygments_lexer": "ipython3",
   "version": "3.6.3"
  }
 },
 "nbformat": 4,
 "nbformat_minor": 2
}
